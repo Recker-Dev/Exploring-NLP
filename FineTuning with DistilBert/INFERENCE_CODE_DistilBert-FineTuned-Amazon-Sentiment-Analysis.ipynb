{
 "cells": [
  {
   "cell_type": "code",
   "execution_count": null,
   "metadata": {},
   "outputs": [],
   "source": [
    "{\n",
    "  \"developer\": \"Swapnendu Banik\",\n",
    "  \"version\": \"1.0.0\",\n",
    "  \"projectDescription\": \"\"\"This project fine-tunes a DistilBERT model on the Amazon Customer Review dataset for sentiment analysis, \n",
    "  classifying reviews into categories like very positive, positive, neutral, negative, and very negative. \n",
    "  The goal is to create an efficient sentiment analysis tool for Amazon product reviews.\"\"\"\n",
    "}"
   ]
  },
  {
   "cell_type": "code",
   "execution_count": 1,
   "metadata": {},
   "outputs": [],
   "source": [
    "## Script for inferencing the model\n",
    "\n",
    "import torch\n",
    "from transformers import  AutoTokenizer,AutoModelForSequenceClassification\n",
    "import pickle\n",
    "import numpy as np"
   ]
  },
  {
   "cell_type": "code",
   "execution_count": 2,
   "metadata": {},
   "outputs": [],
   "source": [
    "# Load the model and tokenizer\n",
    "model_path = \"artifacts\\model\\distilbert_amazon_review_model\"\n",
    "encoder_path =\"artifacts\\label_encoder.pkl\"\n"
   ]
  },
  {
   "cell_type": "code",
   "execution_count": 3,
   "metadata": {},
   "outputs": [],
   "source": [
    "## Functionize the whole thing\n",
    "\n",
    "def load_model_and_binarizer(model_path, encoder_path):\n",
    "  tokenizer = AutoTokenizer.from_pretrained(model_path)\n",
    "  model = AutoModelForSequenceClassification.from_pretrained(model_path)\n",
    "\n",
    "  ## Load the label binarizer\n",
    "  with open(encoder_path, \"rb\") as f:\n",
    "    label = pickle.load(f)\n",
    "\n",
    "  return model, tokenizer, label"
   ]
  },
  {
   "cell_type": "code",
   "execution_count": 4,
   "metadata": {},
   "outputs": [],
   "source": [
    "def run_inference(text):\n",
    "  model, tokenizer, label = load_model_and_binarizer(model_path, encoder_path)\n",
    "  encoding = tokenizer(text,\n",
    "                              truncation=True,\n",
    "                              padding=\"max_length\",\n",
    "                              max_length= 512,\n",
    "                              return_tensors=\"pt\")\n",
    "  output = model(**encoding)\n",
    "  sigmoid = torch.nn.Sigmoid()\n",
    "  probs = sigmoid(torch.Tensor(output.logits[0].cpu()))\n",
    "  preds = np.zeros(probs.shape)\n",
    "  preds[np.where(probs >= 0.3)] = 1\n",
    "\n",
    "  preds = preds.reshape(1, -1) ## Add extra dim for inverse_transform to work; it was encoded on a 2d array\n",
    "\n",
    "  \n",
    "\n",
    "    # Mapping Numerical Values to Test to make sense\n",
    "  sentiment_map = {\n",
    "        1: \"Very Negative\",\n",
    "        2: \"Negative\",\n",
    "        3: \"Neutral\",\n",
    "        4: \"Positive\",\n",
    "        5: \"Very Positive\"\n",
    "    }\n",
    "  \n",
    "\n",
    "  pred_val= label.inverse_transform(preds)\n",
    "\n",
    "  # Convert numerical sentiment value to label\n",
    "  sentiment_label = sentiment_map.get(pred_val[0], \"Unknown Sentiment\")\n",
    "  return sentiment_label\n"
   ]
  },
  {
   "cell_type": "code",
   "execution_count": 10,
   "metadata": {},
   "outputs": [
    {
     "data": {
      "text/plain": [
       "'Neutral'"
      ]
     },
     "execution_count": 10,
     "metadata": {},
     "output_type": "execute_result"
    }
   ],
   "source": [
    "## Run Inference\n",
    "\n",
    "run_inference(\"Not Sure how i feel about it, not  bad but not neutral either\")"
   ]
  },
  {
   "cell_type": "code",
   "execution_count": 11,
   "metadata": {},
   "outputs": [
    {
     "data": {
      "text/plain": [
       "'Very Positive'"
      ]
     },
     "execution_count": 11,
     "metadata": {},
     "output_type": "execute_result"
    }
   ],
   "source": [
    "run_inference(\"Amazing Product\")"
   ]
  },
  {
   "cell_type": "code",
   "execution_count": 12,
   "metadata": {},
   "outputs": [
    {
     "data": {
      "text/plain": [
       "'Positive'"
      ]
     },
     "execution_count": 12,
     "metadata": {},
     "output_type": "execute_result"
    }
   ],
   "source": [
    "run_inference(\"Ok product, would recommend to friends!\")"
   ]
  },
  {
   "cell_type": "code",
   "execution_count": 13,
   "metadata": {},
   "outputs": [
    {
     "data": {
      "text/plain": [
       "'Neutral'"
      ]
     },
     "execution_count": 13,
     "metadata": {},
     "output_type": "execute_result"
    }
   ],
   "source": [
    "run_inference(\"Fine but not impressed\")"
   ]
  },
  {
   "cell_type": "code",
   "execution_count": 14,
   "metadata": {},
   "outputs": [
    {
     "data": {
      "text/plain": [
       "'Very Negative'"
      ]
     },
     "execution_count": 14,
     "metadata": {},
     "output_type": "execute_result"
    }
   ],
   "source": [
    "run_inference(\"Pathetic\")"
   ]
  }
 ],
 "metadata": {
  "kernelspec": {
   "display_name": "test_env",
   "language": "python",
   "name": "python3"
  },
  "language_info": {
   "codemirror_mode": {
    "name": "ipython",
    "version": 3
   },
   "file_extension": ".py",
   "mimetype": "text/x-python",
   "name": "python",
   "nbconvert_exporter": "python",
   "pygments_lexer": "ipython3",
   "version": "3.10.16"
  }
 },
 "nbformat": 4,
 "nbformat_minor": 2
}
