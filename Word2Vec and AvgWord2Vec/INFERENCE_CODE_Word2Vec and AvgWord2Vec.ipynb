{
 "cells": [
  {
   "cell_type": "code",
   "execution_count": 4,
   "metadata": {},
   "outputs": [],
   "source": [
    "import nltk\n",
    "from nltk import sent_tokenize\n",
    "from gensim.utils import simple_preprocess\n",
    "import numpy as np\n",
    "import pickle"
   ]
  },
  {
   "cell_type": "markdown",
   "metadata": {},
   "source": [
    "#### Loading the Trained Model and the Word2Vec Model"
   ]
  },
  {
   "cell_type": "code",
   "execution_count": 5,
   "metadata": {},
   "outputs": [],
   "source": [
    "# Load the word2vec model\n",
    "w2v_model = pickle.load(open(\"artifacts/w2v_model.pkl\", \"rb\"))\n",
    "\n",
    "# Load the classifier\n",
    "classifier = pickle.load(open(\"artifacts/classifier.pkl\", \"rb\"))"
   ]
  },
  {
   "cell_type": "code",
   "execution_count": 2,
   "metadata": {},
   "outputs": [],
   "source": [
    "def avg_word2vec(sentence, w2v_model):\n",
    "  \"\"\"Calculates the average Word2Vec vector for a sentence.\n",
    "\n",
    "  Args:\n",
    "    sentence: The sentence to calculate the average vector for.\n",
    "    w2v_model: The trained Word2Vec model.\n",
    "\n",
    "  Returns:\n",
    "    The average Word2Vec vector for the sentence.\n",
    "  \"\"\"\n",
    "  word_vectors = [w2v_model.wv[word] for word in sentence if word in w2v_model.wv.index_to_key]\n",
    "  if word_vectors:  # Check if word_vectors is not empty\n",
    "    return np.mean(word_vectors, axis=0)\n",
    "  else:\n",
    "    return np.zeros(w2v_model.vector_size)  # Return a zero vector if no words are found"
   ]
  },
  {
   "cell_type": "code",
   "execution_count": 14,
   "metadata": {},
   "outputs": [],
   "source": [
    "def predict_sentiment(sentence, w2v_model, classifier):\n",
    "  \"\"\"Predicts the sentiment of a sentence.\n",
    "\n",
    "  Args:\n",
    "    sentence: The sentence to predict the sentiment of.\n",
    "    w2v_model: The trained Word2Vec model.\n",
    "    classifier: The trained RandomForestClassifier.\n",
    "\n",
    "  Returns:\n",
    "    The predicted sentiment (0 for negative, 1 for positive).\n",
    "  \"\"\"\n",
    "  # Tokenize and preprocess the sentence\n",
    "  words = simple_preprocess(sentence)\n",
    "\n",
    "  # Generate the sentence vector using AvgWord2Vec\n",
    "  sentence_vector = avg_word2vec(words, w2v_model)\n",
    "  # Make the prediction\n",
    "  prediction = classifier.predict(sentence_vector.reshape(1, -1))  # Reshape to a 2D-array; same as training data\n",
    "  return prediction[0]\n"
   ]
  },
  {
   "cell_type": "code",
   "execution_count": 15,
   "metadata": {},
   "outputs": [
    {
     "name": "stdout",
     "output_type": "stream",
     "text": [
      "Sentence: This has to be the best product ever\n",
      "Predicted Sentiment: Positive\n"
     ]
    }
   ],
   "source": [
    "# Example usage\n",
    "example_sentence = \"This has to be the best product ever\"\n",
    "prediction = predict_sentiment(example_sentence, w2v_model, classifier)\n",
    "\n",
    "print(f\"Sentence: {example_sentence}\")\n",
    "print(f\"Predicted Sentiment: {'Positive' if prediction == 1 else 'Negative'}\")"
   ]
  },
  {
   "cell_type": "code",
   "execution_count": 16,
   "metadata": {},
   "outputs": [
    {
     "name": "stdout",
     "output_type": "stream",
     "text": [
      "Sentence: Terrible Product, never buying\n",
      "Predicted Sentiment: Negative\n"
     ]
    }
   ],
   "source": [
    "# Example usage\n",
    "example_sentence = \"Terrible Product, never buying\"\n",
    "prediction = predict_sentiment(example_sentence, w2v_model, classifier)\n",
    "\n",
    "print(f\"Sentence: {example_sentence}\")\n",
    "print(f\"Predicted Sentiment: {'Positive' if prediction == 1 else 'Negative'}\")"
   ]
  },
  {
   "cell_type": "code",
   "execution_count": null,
   "metadata": {},
   "outputs": [],
   "source": []
  }
 ],
 "metadata": {
  "kernelspec": {
   "display_name": "test_env",
   "language": "python",
   "name": "python3"
  },
  "language_info": {
   "codemirror_mode": {
    "name": "ipython",
    "version": 3
   },
   "file_extension": ".py",
   "mimetype": "text/x-python",
   "name": "python",
   "nbconvert_exporter": "python",
   "pygments_lexer": "ipython3",
   "version": "3.11.11"
  }
 },
 "nbformat": 4,
 "nbformat_minor": 2
}
