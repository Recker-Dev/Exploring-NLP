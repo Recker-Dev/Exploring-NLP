{
 "cells": [
  {
   "cell_type": "markdown",
   "metadata": {},
   "source": [
    "## Loading Processed Reviews"
   ]
  },
  {
   "cell_type": "code",
   "execution_count": 6,
   "metadata": {},
   "outputs": [],
   "source": [
    "import pandas as pd"
   ]
  },
  {
   "cell_type": "code",
   "execution_count": 7,
   "metadata": {
    "colab": {
     "base_uri": "https://localhost:8080/",
     "height": 206
    },
    "executionInfo": {
     "elapsed": 727,
     "status": "ok",
     "timestamp": 1734015809238,
     "user": {
      "displayName": "Recker",
      "userId": "16854911016069694959"
     },
     "user_tz": -330
    },
    "id": "RUOlyRIO6tW5",
    "outputId": "98cba8c7-ce88-49ef-8293-eb59bb99d6d3"
   },
   "outputs": [
    {
     "data": {
      "text/html": [
       "<div>\n",
       "<style scoped>\n",
       "    .dataframe tbody tr th:only-of-type {\n",
       "        vertical-align: middle;\n",
       "    }\n",
       "\n",
       "    .dataframe tbody tr th {\n",
       "        vertical-align: top;\n",
       "    }\n",
       "\n",
       "    .dataframe thead th {\n",
       "        text-align: right;\n",
       "    }\n",
       "</style>\n",
       "<table border=\"1\" class=\"dataframe\">\n",
       "  <thead>\n",
       "    <tr style=\"text-align: right;\">\n",
       "      <th></th>\n",
       "      <th>Review_text</th>\n",
       "      <th>Rating</th>\n",
       "    </tr>\n",
       "  </thead>\n",
       "  <tbody>\n",
       "    <tr>\n",
       "      <th>0</th>\n",
       "      <td>liked</td>\n",
       "      <td>1</td>\n",
       "    </tr>\n",
       "    <tr>\n",
       "      <th>1</th>\n",
       "      <td>bought phone amazon using samsung m30s couple ...</td>\n",
       "      <td>1</td>\n",
       "    </tr>\n",
       "    <tr>\n",
       "      <th>2</th>\n",
       "      <td>awesome book reasonable price must buy</td>\n",
       "      <td>1</td>\n",
       "    </tr>\n",
       "    <tr>\n",
       "      <th>3</th>\n",
       "      <td>good</td>\n",
       "      <td>1</td>\n",
       "    </tr>\n",
       "    <tr>\n",
       "      <th>4</th>\n",
       "      <td>book fine bad contains nice concepts nicely ex...</td>\n",
       "      <td>1</td>\n",
       "    </tr>\n",
       "  </tbody>\n",
       "</table>\n",
       "</div>"
      ],
      "text/plain": [
       "                                         Review_text  Rating\n",
       "0                                              liked       1\n",
       "1  bought phone amazon using samsung m30s couple ...       1\n",
       "2             awesome book reasonable price must buy       1\n",
       "3                                               good       1\n",
       "4  book fine bad contains nice concepts nicely ex...       1"
      ]
     },
     "execution_count": 7,
     "metadata": {},
     "output_type": "execute_result"
    }
   ],
   "source": [
    "df = pd.read_csv(\"dataset\\processed_reviews.csv\")\n",
    "df.head(5)"
   ]
  },
  {
   "cell_type": "code",
   "execution_count": 11,
   "metadata": {
    "colab": {
     "base_uri": "https://localhost:8080/",
     "height": 147
    },
    "executionInfo": {
     "elapsed": 426,
     "status": "ok",
     "timestamp": 1734015887248,
     "user": {
      "displayName": "Recker",
      "userId": "16854911016069694959"
     },
     "user_tz": -330
    },
    "id": "4bsc-xgNEANI",
    "outputId": "99d22da9-0988-4947-84c8-fcc2b684fd53"
   },
   "outputs": [
    {
     "data": {
      "text/plain": [
       "Review_text    0\n",
       "Rating         0\n",
       "dtype: int64"
      ]
     },
     "execution_count": 11,
     "metadata": {},
     "output_type": "execute_result"
    }
   ],
   "source": [
    "df.dropna(subset=[\"Review_text\"], inplace=True)\n",
    "df.isnull().sum()"
   ]
  },
  {
   "cell_type": "markdown",
   "metadata": {
    "id": "tDhsWqFM0iSE"
   },
   "source": [
    "## Word2Vec Implem"
   ]
  },
  {
   "cell_type": "code",
   "execution_count": 9,
   "metadata": {
    "executionInfo": {
     "elapsed": 3,
     "status": "ok",
     "timestamp": 1734015892818,
     "user": {
      "displayName": "Recker",
      "userId": "16854911016069694959"
     },
     "user_tz": -330
    },
    "id": "Z7kStWov0nY9"
   },
   "outputs": [],
   "source": [
    "import gensim\n",
    "from gensim.models import Word2Vec, KeyedVectors"
   ]
  },
  {
   "cell_type": "code",
   "execution_count": 15,
   "metadata": {
    "colab": {
     "base_uri": "https://localhost:8080/"
    },
    "executionInfo": {
     "elapsed": 5,
     "status": "ok",
     "timestamp": 1734015893321,
     "user": {
      "displayName": "Recker",
      "userId": "16854911016069694959"
     },
     "user_tz": -330
    },
    "id": "5Ai4CaXa1MWR",
    "outputId": "16257852-4ab6-499e-df18-7069336333eb"
   },
   "outputs": [
    {
     "name": "stderr",
     "output_type": "stream",
     "text": [
      "[nltk_data] Downloading package wordnet to\n",
      "[nltk_data]     C:\\Users\\nirma\\AppData\\Roaming\\nltk_data...\n",
      "[nltk_data]   Package wordnet is already up-to-date!\n",
      "[nltk_data] Downloading package punkt_tab to\n",
      "[nltk_data]     C:\\Users\\nirma\\AppData\\Roaming\\nltk_data...\n",
      "[nltk_data]   Unzipping tokenizers\\punkt_tab.zip.\n"
     ]
    }
   ],
   "source": [
    "import nltk\n",
    "from nltk.stem import WordNetLemmatizer\n",
    "\n",
    "nltk.download('wordnet')  # Download WordNet data if you haven't already\n",
    "nltk.download('punkt_tab')\n",
    "lemmatizer = WordNetLemmatizer()\n"
   ]
  },
  {
   "cell_type": "code",
   "execution_count": 3,
   "metadata": {
    "collapsed": true,
    "executionInfo": {
     "elapsed": 720,
     "status": "ok",
     "timestamp": 1734016253779,
     "user": {
      "displayName": "Recker",
      "userId": "16854911016069694959"
     },
     "user_tz": -330
    },
    "id": "qQs0_mTZ2V4R"
   },
   "outputs": [],
   "source": [
    "from nltk import sent_tokenize\n",
    "from gensim.utils import simple_preprocess"
   ]
  },
  {
   "cell_type": "code",
   "execution_count": 12,
   "metadata": {
    "executionInfo": {
     "elapsed": 3854,
     "status": "ok",
     "timestamp": 1734016205648,
     "user": {
      "displayName": "Recker",
      "userId": "16854911016069694959"
     },
     "user_tz": -330
    },
    "id": "PQw5kS36C8nY"
   },
   "outputs": [],
   "source": [
    "corpus = []\n",
    "\n",
    "for index, row in df.iterrows():\n",
    "    sentences = row[\"Review_text\"]  # Split into sentences\n",
    "    corpus.append(sentences)"
   ]
  },
  {
   "cell_type": "code",
   "execution_count": 19,
   "metadata": {
    "executionInfo": {
     "elapsed": 472,
     "status": "ok",
     "timestamp": 1734016231230,
     "user": {
      "displayName": "Recker",
      "userId": "16854911016069694959"
     },
     "user_tz": -330
    },
    "id": "iozClFac3KjV"
   },
   "outputs": [
    {
     "data": {
      "text/plain": [
       "'good option'"
      ]
     },
     "execution_count": 19,
     "metadata": {},
     "output_type": "execute_result"
    }
   ],
   "source": [
    "## Let's see the first sentence in the corpus\n",
    "\n",
    "corpus[10]"
   ]
  },
  {
   "cell_type": "code",
   "execution_count": 16,
   "metadata": {
    "executionInfo": {
     "elapsed": 2926,
     "status": "ok",
     "timestamp": 1734016409051,
     "user": {
      "displayName": "Recker",
      "userId": "16854911016069694959"
     },
     "user_tz": -330
    },
    "id": "Yno2cA80CflT"
   },
   "outputs": [],
   "source": [
    "words=[]\n",
    "for sent in corpus:\n",
    "  sent_token = sent_tokenize(sent)\n",
    "  for sent in sent_token:\n",
    "    words.append(simple_preprocess(sent))"
   ]
  },
  {
   "cell_type": "code",
   "execution_count": 20,
   "metadata": {
    "executionInfo": {
     "elapsed": 427,
     "status": "ok",
     "timestamp": 1734016448265,
     "user": {
      "displayName": "Recker",
      "userId": "16854911016069694959"
     },
     "user_tz": -330
    },
    "id": "6tUF5KCAbo9R"
   },
   "outputs": [
    {
     "data": {
      "text/plain": [
       "['good', 'option']"
      ]
     },
     "execution_count": 20,
     "metadata": {},
     "output_type": "execute_result"
    }
   ],
   "source": [
    "## The words of the corpus[10] is made into a sub-list\n",
    "words [10]"
   ]
  },
  {
   "cell_type": "code",
   "execution_count": 24,
   "metadata": {
    "executionInfo": {
     "elapsed": 70043,
     "status": "ok",
     "timestamp": 1734017458047,
     "user": {
      "displayName": "Recker",
      "userId": "16854911016069694959"
     },
     "user_tz": -330
    },
    "id": "n37pMeZ3bqoB"
   },
   "outputs": [],
   "source": [
    "## Training Word2Vec from scratch\n",
    "\n",
    "w2v_model=gensim.models.Word2Vec(words, epochs=150)"
   ]
  },
  {
   "cell_type": "code",
   "execution_count": 38,
   "metadata": {
    "colab": {
     "base_uri": "https://localhost:8080/"
    },
    "executionInfo": {
     "elapsed": 638,
     "status": "ok",
     "timestamp": 1734017502793,
     "user": {
      "displayName": "Recker",
      "userId": "16854911016069694959"
     },
     "user_tz": -330
    },
    "id": "C10GSewJdbtc",
    "outputId": "0e382f1a-90d1-4286-e5a0-9329213bc41b"
   },
   "outputs": [
    {
     "data": {
      "text/plain": [
       "[('nice', 0.8603376746177673),\n",
       " ('awesome', 0.8299969434738159),\n",
       " ('excellent', 0.8229254484176636),\n",
       " ('great', 0.7919813394546509),\n",
       " ('decent', 0.7783781886100769),\n",
       " ('average', 0.7271357178688049),\n",
       " ('superb', 0.7168322205543518),\n",
       " ('ok', 0.701496422290802),\n",
       " ('awsome', 0.672161340713501),\n",
       " ('amazing', 0.6701365113258362)]"
      ]
     },
     "execution_count": 38,
     "metadata": {},
     "output_type": "execute_result"
    }
   ],
   "source": [
    "## Running a similarity search for a word\n",
    "w2v_model.wv.similar_by_word(\"good\")"
   ]
  },
  {
   "cell_type": "markdown",
   "metadata": {
    "id": "NLqDqZE5f9kn"
   },
   "source": [
    "### Word2Vec has been implemented but we need to do AvgWord2Vec."
   ]
  },
  {
   "cell_type": "markdown",
   "metadata": {
    "id": "CgX0rolngFcc"
   },
   "source": [
    "But Why?\n",
    "\n",
    "For every word it is giving a 100 dimension vector, what we want is 100 dim per sentence, for better generalization \n"
   ]
  },
  {
   "cell_type": "code",
   "execution_count": 28,
   "metadata": {
    "executionInfo": {
     "elapsed": 2,
     "status": "ok",
     "timestamp": 1734018057776,
     "user": {
      "displayName": "Recker",
      "userId": "16854911016069694959"
     },
     "user_tz": -330
    },
    "id": "BfVYSZCoe_Rk"
   },
   "outputs": [],
   "source": [
    "def avg_word2vec(sentence):\n",
    "    word_vectors = [w2v_model.wv[word] for word in sentence if word in w2v_model.wv.index_to_key]\n",
    "    if word_vectors:  # Check if word_vectors is not empty\n",
    "        return np.mean(word_vectors, axis=0)\n",
    "    else:\n",
    "        return np.zeros(w2v_model.vector_size)  # Return a zero vector if no words are found"
   ]
  },
  {
   "cell_type": "code",
   "execution_count": 29,
   "metadata": {
    "colab": {
     "base_uri": "https://localhost:8080/"
    },
    "executionInfo": {
     "elapsed": 3920,
     "status": "ok",
     "timestamp": 1734017871592,
     "user": {
      "displayName": "Recker",
      "userId": "16854911016069694959"
     },
     "user_tz": -330
    },
    "id": "bflZi3y0gryg",
    "outputId": "dc545301-ef62-483d-9254-ed6153d041ee"
   },
   "outputs": [],
   "source": [
    "from tqdm import tqdm"
   ]
  },
  {
   "cell_type": "code",
   "execution_count": 30,
   "metadata": {
    "colab": {
     "base_uri": "https://localhost:8080/"
    },
    "executionInfo": {
     "elapsed": 22149,
     "status": "ok",
     "timestamp": 1734018083000,
     "user": {
      "displayName": "Recker",
      "userId": "16854911016069694959"
     },
     "user_tz": -330
    },
    "id": "hnRhgBBhhNwo",
    "outputId": "a16bf6f9-ad24-4f5d-dea0-e756d605b28c"
   },
   "outputs": [
    {
     "name": "stderr",
     "output_type": "stream",
     "text": [
      "100%|██████████| 60654/60654 [00:11<00:00, 5320.45it/s]\n"
     ]
    }
   ],
   "source": [
    "import numpy as np\n",
    "## apply for all sentences in corpus\n",
    "X=[]\n",
    "\n",
    "for i in tqdm(range(len(words))): ## words is a list of sentences which has  mini list of words\n",
    "  X.append(avg_word2vec(words[i]))\n"
   ]
  },
  {
   "cell_type": "code",
   "execution_count": 31,
   "metadata": {
    "colab": {
     "base_uri": "https://localhost:8080/"
    },
    "executionInfo": {
     "elapsed": 700,
     "status": "ok",
     "timestamp": 1734018158594,
     "user": {
      "displayName": "Recker",
      "userId": "16854911016069694959"
     },
     "user_tz": -330
    },
    "id": "_9iJ-p6FhYI0",
    "outputId": "a5a4107b-a829-4c7e-edad-eafa0caf1b1c"
   },
   "outputs": [
    {
     "name": "stdout",
     "output_type": "stream",
     "text": [
      "(100,)\n",
      "(100,)\n"
     ]
    }
   ],
   "source": [
    "## All sentences are converted to 100 length vectors\n",
    "print(X[0].shape)\n",
    "print(X[60653].shape)"
   ]
  },
  {
   "cell_type": "markdown",
   "metadata": {},
   "source": [
    "#### Now our training data is the 100 feature length vector pointing to each sentence"
   ]
  },
  {
   "cell_type": "code",
   "execution_count": 39,
   "metadata": {
    "executionInfo": {
     "elapsed": 409,
     "status": "ok",
     "timestamp": 1734018204757,
     "user": {
      "displayName": "Recker",
      "userId": "16854911016069694959"
     },
     "user_tz": -330
    },
    "id": "rQvQwenviGJm"
   },
   "outputs": [],
   "source": [
    "## Independent Features\n",
    "X_new = np.array(X)"
   ]
  },
  {
   "cell_type": "code",
   "execution_count": 40,
   "metadata": {
    "executionInfo": {
     "elapsed": 440,
     "status": "ok",
     "timestamp": 1734018235877,
     "user": {
      "displayName": "Recker",
      "userId": "16854911016069694959"
     },
     "user_tz": -330
    },
    "id": "rEbOKEkUif-p"
   },
   "outputs": [],
   "source": [
    "## Dependent Feature\n",
    "y = df[\"Rating\"]"
   ]
  },
  {
   "cell_type": "code",
   "execution_count": 41,
   "metadata": {
    "colab": {
     "base_uri": "https://localhost:8080/"
    },
    "executionInfo": {
     "elapsed": 445,
     "status": "ok",
     "timestamp": 1734018246165,
     "user": {
      "displayName": "Recker",
      "userId": "16854911016069694959"
     },
     "user_tz": -330
    },
    "id": "1SufOgJoinlg",
    "outputId": "c9d25c0f-d826-4b6d-9152-7b1caa3741d7"
   },
   "outputs": [
    {
     "name": "stdout",
     "output_type": "stream",
     "text": [
      "(60654, 100)\n",
      "(60654,)\n"
     ]
    }
   ],
   "source": [
    "## Verify Length\n",
    "print(X_new.shape)\n",
    "print(y.shape)"
   ]
  },
  {
   "cell_type": "code",
   "execution_count": 42,
   "metadata": {
    "executionInfo": {
     "elapsed": 456,
     "status": "ok",
     "timestamp": 1734018553253,
     "user": {
      "displayName": "Recker",
      "userId": "16854911016069694959"
     },
     "user_tz": -330
    },
    "id": "1Z3kBAKTiqGF"
   },
   "outputs": [],
   "source": [
    "processed_df = pd.DataFrame(X_new)\n"
   ]
  },
  {
   "cell_type": "code",
   "execution_count": 43,
   "metadata": {
    "colab": {
     "base_uri": "https://localhost:8080/",
     "height": 256
    },
    "executionInfo": {
     "elapsed": 9,
     "status": "ok",
     "timestamp": 1734018554703,
     "user": {
      "displayName": "Recker",
      "userId": "16854911016069694959"
     },
     "user_tz": -330
    },
    "id": "EN_AillDjpNN",
    "outputId": "e8305bb7-4431-4f8c-dff6-3f1682909a0d"
   },
   "outputs": [
    {
     "data": {
      "text/html": [
       "<div>\n",
       "<style scoped>\n",
       "    .dataframe tbody tr th:only-of-type {\n",
       "        vertical-align: middle;\n",
       "    }\n",
       "\n",
       "    .dataframe tbody tr th {\n",
       "        vertical-align: top;\n",
       "    }\n",
       "\n",
       "    .dataframe thead th {\n",
       "        text-align: right;\n",
       "    }\n",
       "</style>\n",
       "<table border=\"1\" class=\"dataframe\">\n",
       "  <thead>\n",
       "    <tr style=\"text-align: right;\">\n",
       "      <th></th>\n",
       "      <th>0</th>\n",
       "      <th>1</th>\n",
       "      <th>2</th>\n",
       "      <th>3</th>\n",
       "      <th>4</th>\n",
       "      <th>5</th>\n",
       "      <th>6</th>\n",
       "      <th>7</th>\n",
       "      <th>8</th>\n",
       "      <th>9</th>\n",
       "      <th>...</th>\n",
       "      <th>90</th>\n",
       "      <th>91</th>\n",
       "      <th>92</th>\n",
       "      <th>93</th>\n",
       "      <th>94</th>\n",
       "      <th>95</th>\n",
       "      <th>96</th>\n",
       "      <th>97</th>\n",
       "      <th>98</th>\n",
       "      <th>99</th>\n",
       "    </tr>\n",
       "  </thead>\n",
       "  <tbody>\n",
       "    <tr>\n",
       "      <th>0</th>\n",
       "      <td>-2.009762</td>\n",
       "      <td>-2.108592</td>\n",
       "      <td>-0.223621</td>\n",
       "      <td>-1.393906</td>\n",
       "      <td>0.433622</td>\n",
       "      <td>0.835111</td>\n",
       "      <td>2.576652</td>\n",
       "      <td>-0.094758</td>\n",
       "      <td>0.126729</td>\n",
       "      <td>-1.428020</td>\n",
       "      <td>...</td>\n",
       "      <td>0.314802</td>\n",
       "      <td>-0.191911</td>\n",
       "      <td>1.493221</td>\n",
       "      <td>-0.645711</td>\n",
       "      <td>-2.028114</td>\n",
       "      <td>-2.393979</td>\n",
       "      <td>1.394179</td>\n",
       "      <td>0.546807</td>\n",
       "      <td>-1.051062</td>\n",
       "      <td>-2.832405</td>\n",
       "    </tr>\n",
       "    <tr>\n",
       "      <th>1</th>\n",
       "      <td>0.160922</td>\n",
       "      <td>-0.047205</td>\n",
       "      <td>-0.197426</td>\n",
       "      <td>0.100856</td>\n",
       "      <td>-0.378788</td>\n",
       "      <td>1.007363</td>\n",
       "      <td>0.244610</td>\n",
       "      <td>-0.215053</td>\n",
       "      <td>0.465857</td>\n",
       "      <td>-0.419049</td>\n",
       "      <td>...</td>\n",
       "      <td>-0.683699</td>\n",
       "      <td>0.509766</td>\n",
       "      <td>0.255540</td>\n",
       "      <td>-0.609829</td>\n",
       "      <td>-0.216296</td>\n",
       "      <td>-0.164153</td>\n",
       "      <td>-0.274602</td>\n",
       "      <td>-0.012934</td>\n",
       "      <td>-0.186139</td>\n",
       "      <td>0.180499</td>\n",
       "    </tr>\n",
       "    <tr>\n",
       "      <th>2</th>\n",
       "      <td>0.577347</td>\n",
       "      <td>0.329095</td>\n",
       "      <td>1.305352</td>\n",
       "      <td>-1.771341</td>\n",
       "      <td>0.043480</td>\n",
       "      <td>-1.115728</td>\n",
       "      <td>0.207343</td>\n",
       "      <td>0.308839</td>\n",
       "      <td>1.338823</td>\n",
       "      <td>-1.030806</td>\n",
       "      <td>...</td>\n",
       "      <td>-0.187100</td>\n",
       "      <td>-1.191622</td>\n",
       "      <td>0.211990</td>\n",
       "      <td>-0.347762</td>\n",
       "      <td>0.775164</td>\n",
       "      <td>-0.919379</td>\n",
       "      <td>0.319311</td>\n",
       "      <td>-0.179645</td>\n",
       "      <td>0.365293</td>\n",
       "      <td>0.608363</td>\n",
       "    </tr>\n",
       "    <tr>\n",
       "      <th>3</th>\n",
       "      <td>-1.597558</td>\n",
       "      <td>0.113899</td>\n",
       "      <td>0.260711</td>\n",
       "      <td>-0.190220</td>\n",
       "      <td>1.039261</td>\n",
       "      <td>2.134495</td>\n",
       "      <td>-1.837562</td>\n",
       "      <td>-0.867553</td>\n",
       "      <td>0.602202</td>\n",
       "      <td>-0.472719</td>\n",
       "      <td>...</td>\n",
       "      <td>0.138886</td>\n",
       "      <td>0.898425</td>\n",
       "      <td>0.720696</td>\n",
       "      <td>-0.648485</td>\n",
       "      <td>-1.058941</td>\n",
       "      <td>-0.225319</td>\n",
       "      <td>-0.877628</td>\n",
       "      <td>0.522586</td>\n",
       "      <td>-0.288065</td>\n",
       "      <td>0.515723</td>\n",
       "    </tr>\n",
       "    <tr>\n",
       "      <th>4</th>\n",
       "      <td>-1.238543</td>\n",
       "      <td>1.222089</td>\n",
       "      <td>1.032567</td>\n",
       "      <td>-0.379430</td>\n",
       "      <td>0.424300</td>\n",
       "      <td>-0.395015</td>\n",
       "      <td>-0.893469</td>\n",
       "      <td>0.445555</td>\n",
       "      <td>-0.220653</td>\n",
       "      <td>-1.365061</td>\n",
       "      <td>...</td>\n",
       "      <td>0.099366</td>\n",
       "      <td>0.509544</td>\n",
       "      <td>0.219448</td>\n",
       "      <td>-0.063983</td>\n",
       "      <td>0.451150</td>\n",
       "      <td>0.385790</td>\n",
       "      <td>-0.456647</td>\n",
       "      <td>-0.896907</td>\n",
       "      <td>0.773374</td>\n",
       "      <td>0.848653</td>\n",
       "    </tr>\n",
       "  </tbody>\n",
       "</table>\n",
       "<p>5 rows × 100 columns</p>\n",
       "</div>"
      ],
      "text/plain": [
       "         0         1         2         3         4         5         6   \\\n",
       "0 -2.009762 -2.108592 -0.223621 -1.393906  0.433622  0.835111  2.576652   \n",
       "1  0.160922 -0.047205 -0.197426  0.100856 -0.378788  1.007363  0.244610   \n",
       "2  0.577347  0.329095  1.305352 -1.771341  0.043480 -1.115728  0.207343   \n",
       "3 -1.597558  0.113899  0.260711 -0.190220  1.039261  2.134495 -1.837562   \n",
       "4 -1.238543  1.222089  1.032567 -0.379430  0.424300 -0.395015 -0.893469   \n",
       "\n",
       "         7         8         9   ...        90        91        92        93  \\\n",
       "0 -0.094758  0.126729 -1.428020  ...  0.314802 -0.191911  1.493221 -0.645711   \n",
       "1 -0.215053  0.465857 -0.419049  ... -0.683699  0.509766  0.255540 -0.609829   \n",
       "2  0.308839  1.338823 -1.030806  ... -0.187100 -1.191622  0.211990 -0.347762   \n",
       "3 -0.867553  0.602202 -0.472719  ...  0.138886  0.898425  0.720696 -0.648485   \n",
       "4  0.445555 -0.220653 -1.365061  ...  0.099366  0.509544  0.219448 -0.063983   \n",
       "\n",
       "         94        95        96        97        98        99  \n",
       "0 -2.028114 -2.393979  1.394179  0.546807 -1.051062 -2.832405  \n",
       "1 -0.216296 -0.164153 -0.274602 -0.012934 -0.186139  0.180499  \n",
       "2  0.775164 -0.919379  0.319311 -0.179645  0.365293  0.608363  \n",
       "3 -1.058941 -0.225319 -0.877628  0.522586 -0.288065  0.515723  \n",
       "4  0.451150  0.385790 -0.456647 -0.896907  0.773374  0.848653  \n",
       "\n",
       "[5 rows x 100 columns]"
      ]
     },
     "execution_count": 43,
     "metadata": {},
     "output_type": "execute_result"
    }
   ],
   "source": [
    "processed_df.head(5)"
   ]
  },
  {
   "cell_type": "code",
   "execution_count": 45,
   "metadata": {
    "executionInfo": {
     "elapsed": 714,
     "status": "ok",
     "timestamp": 1734018625301,
     "user": {
      "displayName": "Recker",
      "userId": "16854911016069694959"
     },
     "user_tz": -330
    },
    "id": "C2RObKrTjx13"
   },
   "outputs": [],
   "source": [
    "## Train-Test Split\n",
    "from sklearn.model_selection import train_test_split\n",
    "\n",
    "X_train,X_test,y_train,y_test = train_test_split(X_new,y,test_size=0.2,random_state=42)"
   ]
  },
  {
   "cell_type": "code",
   "execution_count": 46,
   "metadata": {
    "colab": {
     "base_uri": "https://localhost:8080/"
    },
    "executionInfo": {
     "elapsed": 436,
     "status": "ok",
     "timestamp": 1734018637459,
     "user": {
      "displayName": "Recker",
      "userId": "16854911016069694959"
     },
     "user_tz": -330
    },
    "id": "bhIYBx-skGmL",
    "outputId": "40208fa1-010a-4cc6-9b2f-326805bac3af"
   },
   "outputs": [
    {
     "data": {
      "text/plain": [
       "(48523, 12131, 48523, 12131)"
      ]
     },
     "execution_count": 46,
     "metadata": {},
     "output_type": "execute_result"
    }
   ],
   "source": [
    "len(X_train),len(X_test),len(y_train),len(y_test)"
   ]
  },
  {
   "cell_type": "code",
   "execution_count": 47,
   "metadata": {
    "colab": {
     "base_uri": "https://localhost:8080/",
     "height": 80
    },
    "executionInfo": {
     "elapsed": 81606,
     "status": "ok",
     "timestamp": 1734018846955,
     "user": {
      "displayName": "Recker",
      "userId": "16854911016069694959"
     },
     "user_tz": -330
    },
    "id": "JuTRWjYrkJoH",
    "outputId": "34e5e961-1c02-4869-ad9b-a8a85161f141"
   },
   "outputs": [
    {
     "data": {
      "text/html": [
       "<style>#sk-container-id-1 {\n",
       "  /* Definition of color scheme common for light and dark mode */\n",
       "  --sklearn-color-text: #000;\n",
       "  --sklearn-color-text-muted: #666;\n",
       "  --sklearn-color-line: gray;\n",
       "  /* Definition of color scheme for unfitted estimators */\n",
       "  --sklearn-color-unfitted-level-0: #fff5e6;\n",
       "  --sklearn-color-unfitted-level-1: #f6e4d2;\n",
       "  --sklearn-color-unfitted-level-2: #ffe0b3;\n",
       "  --sklearn-color-unfitted-level-3: chocolate;\n",
       "  /* Definition of color scheme for fitted estimators */\n",
       "  --sklearn-color-fitted-level-0: #f0f8ff;\n",
       "  --sklearn-color-fitted-level-1: #d4ebff;\n",
       "  --sklearn-color-fitted-level-2: #b3dbfd;\n",
       "  --sklearn-color-fitted-level-3: cornflowerblue;\n",
       "\n",
       "  /* Specific color for light theme */\n",
       "  --sklearn-color-text-on-default-background: var(--sg-text-color, var(--theme-code-foreground, var(--jp-content-font-color1, black)));\n",
       "  --sklearn-color-background: var(--sg-background-color, var(--theme-background, var(--jp-layout-color0, white)));\n",
       "  --sklearn-color-border-box: var(--sg-text-color, var(--theme-code-foreground, var(--jp-content-font-color1, black)));\n",
       "  --sklearn-color-icon: #696969;\n",
       "\n",
       "  @media (prefers-color-scheme: dark) {\n",
       "    /* Redefinition of color scheme for dark theme */\n",
       "    --sklearn-color-text-on-default-background: var(--sg-text-color, var(--theme-code-foreground, var(--jp-content-font-color1, white)));\n",
       "    --sklearn-color-background: var(--sg-background-color, var(--theme-background, var(--jp-layout-color0, #111)));\n",
       "    --sklearn-color-border-box: var(--sg-text-color, var(--theme-code-foreground, var(--jp-content-font-color1, white)));\n",
       "    --sklearn-color-icon: #878787;\n",
       "  }\n",
       "}\n",
       "\n",
       "#sk-container-id-1 {\n",
       "  color: var(--sklearn-color-text);\n",
       "}\n",
       "\n",
       "#sk-container-id-1 pre {\n",
       "  padding: 0;\n",
       "}\n",
       "\n",
       "#sk-container-id-1 input.sk-hidden--visually {\n",
       "  border: 0;\n",
       "  clip: rect(1px 1px 1px 1px);\n",
       "  clip: rect(1px, 1px, 1px, 1px);\n",
       "  height: 1px;\n",
       "  margin: -1px;\n",
       "  overflow: hidden;\n",
       "  padding: 0;\n",
       "  position: absolute;\n",
       "  width: 1px;\n",
       "}\n",
       "\n",
       "#sk-container-id-1 div.sk-dashed-wrapped {\n",
       "  border: 1px dashed var(--sklearn-color-line);\n",
       "  margin: 0 0.4em 0.5em 0.4em;\n",
       "  box-sizing: border-box;\n",
       "  padding-bottom: 0.4em;\n",
       "  background-color: var(--sklearn-color-background);\n",
       "}\n",
       "\n",
       "#sk-container-id-1 div.sk-container {\n",
       "  /* jupyter's `normalize.less` sets `[hidden] { display: none; }`\n",
       "     but bootstrap.min.css set `[hidden] { display: none !important; }`\n",
       "     so we also need the `!important` here to be able to override the\n",
       "     default hidden behavior on the sphinx rendered scikit-learn.org.\n",
       "     See: https://github.com/scikit-learn/scikit-learn/issues/21755 */\n",
       "  display: inline-block !important;\n",
       "  position: relative;\n",
       "}\n",
       "\n",
       "#sk-container-id-1 div.sk-text-repr-fallback {\n",
       "  display: none;\n",
       "}\n",
       "\n",
       "div.sk-parallel-item,\n",
       "div.sk-serial,\n",
       "div.sk-item {\n",
       "  /* draw centered vertical line to link estimators */\n",
       "  background-image: linear-gradient(var(--sklearn-color-text-on-default-background), var(--sklearn-color-text-on-default-background));\n",
       "  background-size: 2px 100%;\n",
       "  background-repeat: no-repeat;\n",
       "  background-position: center center;\n",
       "}\n",
       "\n",
       "/* Parallel-specific style estimator block */\n",
       "\n",
       "#sk-container-id-1 div.sk-parallel-item::after {\n",
       "  content: \"\";\n",
       "  width: 100%;\n",
       "  border-bottom: 2px solid var(--sklearn-color-text-on-default-background);\n",
       "  flex-grow: 1;\n",
       "}\n",
       "\n",
       "#sk-container-id-1 div.sk-parallel {\n",
       "  display: flex;\n",
       "  align-items: stretch;\n",
       "  justify-content: center;\n",
       "  background-color: var(--sklearn-color-background);\n",
       "  position: relative;\n",
       "}\n",
       "\n",
       "#sk-container-id-1 div.sk-parallel-item {\n",
       "  display: flex;\n",
       "  flex-direction: column;\n",
       "}\n",
       "\n",
       "#sk-container-id-1 div.sk-parallel-item:first-child::after {\n",
       "  align-self: flex-end;\n",
       "  width: 50%;\n",
       "}\n",
       "\n",
       "#sk-container-id-1 div.sk-parallel-item:last-child::after {\n",
       "  align-self: flex-start;\n",
       "  width: 50%;\n",
       "}\n",
       "\n",
       "#sk-container-id-1 div.sk-parallel-item:only-child::after {\n",
       "  width: 0;\n",
       "}\n",
       "\n",
       "/* Serial-specific style estimator block */\n",
       "\n",
       "#sk-container-id-1 div.sk-serial {\n",
       "  display: flex;\n",
       "  flex-direction: column;\n",
       "  align-items: center;\n",
       "  background-color: var(--sklearn-color-background);\n",
       "  padding-right: 1em;\n",
       "  padding-left: 1em;\n",
       "}\n",
       "\n",
       "\n",
       "/* Toggleable style: style used for estimator/Pipeline/ColumnTransformer box that is\n",
       "clickable and can be expanded/collapsed.\n",
       "- Pipeline and ColumnTransformer use this feature and define the default style\n",
       "- Estimators will overwrite some part of the style using the `sk-estimator` class\n",
       "*/\n",
       "\n",
       "/* Pipeline and ColumnTransformer style (default) */\n",
       "\n",
       "#sk-container-id-1 div.sk-toggleable {\n",
       "  /* Default theme specific background. It is overwritten whether we have a\n",
       "  specific estimator or a Pipeline/ColumnTransformer */\n",
       "  background-color: var(--sklearn-color-background);\n",
       "}\n",
       "\n",
       "/* Toggleable label */\n",
       "#sk-container-id-1 label.sk-toggleable__label {\n",
       "  cursor: pointer;\n",
       "  display: flex;\n",
       "  width: 100%;\n",
       "  margin-bottom: 0;\n",
       "  padding: 0.5em;\n",
       "  box-sizing: border-box;\n",
       "  text-align: center;\n",
       "  align-items: start;\n",
       "  justify-content: space-between;\n",
       "  gap: 0.5em;\n",
       "}\n",
       "\n",
       "#sk-container-id-1 label.sk-toggleable__label .caption {\n",
       "  font-size: 0.6rem;\n",
       "  font-weight: lighter;\n",
       "  color: var(--sklearn-color-text-muted);\n",
       "}\n",
       "\n",
       "#sk-container-id-1 label.sk-toggleable__label-arrow:before {\n",
       "  /* Arrow on the left of the label */\n",
       "  content: \"▸\";\n",
       "  float: left;\n",
       "  margin-right: 0.25em;\n",
       "  color: var(--sklearn-color-icon);\n",
       "}\n",
       "\n",
       "#sk-container-id-1 label.sk-toggleable__label-arrow:hover:before {\n",
       "  color: var(--sklearn-color-text);\n",
       "}\n",
       "\n",
       "/* Toggleable content - dropdown */\n",
       "\n",
       "#sk-container-id-1 div.sk-toggleable__content {\n",
       "  max-height: 0;\n",
       "  max-width: 0;\n",
       "  overflow: hidden;\n",
       "  text-align: left;\n",
       "  /* unfitted */\n",
       "  background-color: var(--sklearn-color-unfitted-level-0);\n",
       "}\n",
       "\n",
       "#sk-container-id-1 div.sk-toggleable__content.fitted {\n",
       "  /* fitted */\n",
       "  background-color: var(--sklearn-color-fitted-level-0);\n",
       "}\n",
       "\n",
       "#sk-container-id-1 div.sk-toggleable__content pre {\n",
       "  margin: 0.2em;\n",
       "  border-radius: 0.25em;\n",
       "  color: var(--sklearn-color-text);\n",
       "  /* unfitted */\n",
       "  background-color: var(--sklearn-color-unfitted-level-0);\n",
       "}\n",
       "\n",
       "#sk-container-id-1 div.sk-toggleable__content.fitted pre {\n",
       "  /* unfitted */\n",
       "  background-color: var(--sklearn-color-fitted-level-0);\n",
       "}\n",
       "\n",
       "#sk-container-id-1 input.sk-toggleable__control:checked~div.sk-toggleable__content {\n",
       "  /* Expand drop-down */\n",
       "  max-height: 200px;\n",
       "  max-width: 100%;\n",
       "  overflow: auto;\n",
       "}\n",
       "\n",
       "#sk-container-id-1 input.sk-toggleable__control:checked~label.sk-toggleable__label-arrow:before {\n",
       "  content: \"▾\";\n",
       "}\n",
       "\n",
       "/* Pipeline/ColumnTransformer-specific style */\n",
       "\n",
       "#sk-container-id-1 div.sk-label input.sk-toggleable__control:checked~label.sk-toggleable__label {\n",
       "  color: var(--sklearn-color-text);\n",
       "  background-color: var(--sklearn-color-unfitted-level-2);\n",
       "}\n",
       "\n",
       "#sk-container-id-1 div.sk-label.fitted input.sk-toggleable__control:checked~label.sk-toggleable__label {\n",
       "  background-color: var(--sklearn-color-fitted-level-2);\n",
       "}\n",
       "\n",
       "/* Estimator-specific style */\n",
       "\n",
       "/* Colorize estimator box */\n",
       "#sk-container-id-1 div.sk-estimator input.sk-toggleable__control:checked~label.sk-toggleable__label {\n",
       "  /* unfitted */\n",
       "  background-color: var(--sklearn-color-unfitted-level-2);\n",
       "}\n",
       "\n",
       "#sk-container-id-1 div.sk-estimator.fitted input.sk-toggleable__control:checked~label.sk-toggleable__label {\n",
       "  /* fitted */\n",
       "  background-color: var(--sklearn-color-fitted-level-2);\n",
       "}\n",
       "\n",
       "#sk-container-id-1 div.sk-label label.sk-toggleable__label,\n",
       "#sk-container-id-1 div.sk-label label {\n",
       "  /* The background is the default theme color */\n",
       "  color: var(--sklearn-color-text-on-default-background);\n",
       "}\n",
       "\n",
       "/* On hover, darken the color of the background */\n",
       "#sk-container-id-1 div.sk-label:hover label.sk-toggleable__label {\n",
       "  color: var(--sklearn-color-text);\n",
       "  background-color: var(--sklearn-color-unfitted-level-2);\n",
       "}\n",
       "\n",
       "/* Label box, darken color on hover, fitted */\n",
       "#sk-container-id-1 div.sk-label.fitted:hover label.sk-toggleable__label.fitted {\n",
       "  color: var(--sklearn-color-text);\n",
       "  background-color: var(--sklearn-color-fitted-level-2);\n",
       "}\n",
       "\n",
       "/* Estimator label */\n",
       "\n",
       "#sk-container-id-1 div.sk-label label {\n",
       "  font-family: monospace;\n",
       "  font-weight: bold;\n",
       "  display: inline-block;\n",
       "  line-height: 1.2em;\n",
       "}\n",
       "\n",
       "#sk-container-id-1 div.sk-label-container {\n",
       "  text-align: center;\n",
       "}\n",
       "\n",
       "/* Estimator-specific */\n",
       "#sk-container-id-1 div.sk-estimator {\n",
       "  font-family: monospace;\n",
       "  border: 1px dotted var(--sklearn-color-border-box);\n",
       "  border-radius: 0.25em;\n",
       "  box-sizing: border-box;\n",
       "  margin-bottom: 0.5em;\n",
       "  /* unfitted */\n",
       "  background-color: var(--sklearn-color-unfitted-level-0);\n",
       "}\n",
       "\n",
       "#sk-container-id-1 div.sk-estimator.fitted {\n",
       "  /* fitted */\n",
       "  background-color: var(--sklearn-color-fitted-level-0);\n",
       "}\n",
       "\n",
       "/* on hover */\n",
       "#sk-container-id-1 div.sk-estimator:hover {\n",
       "  /* unfitted */\n",
       "  background-color: var(--sklearn-color-unfitted-level-2);\n",
       "}\n",
       "\n",
       "#sk-container-id-1 div.sk-estimator.fitted:hover {\n",
       "  /* fitted */\n",
       "  background-color: var(--sklearn-color-fitted-level-2);\n",
       "}\n",
       "\n",
       "/* Specification for estimator info (e.g. \"i\" and \"?\") */\n",
       "\n",
       "/* Common style for \"i\" and \"?\" */\n",
       "\n",
       ".sk-estimator-doc-link,\n",
       "a:link.sk-estimator-doc-link,\n",
       "a:visited.sk-estimator-doc-link {\n",
       "  float: right;\n",
       "  font-size: smaller;\n",
       "  line-height: 1em;\n",
       "  font-family: monospace;\n",
       "  background-color: var(--sklearn-color-background);\n",
       "  border-radius: 1em;\n",
       "  height: 1em;\n",
       "  width: 1em;\n",
       "  text-decoration: none !important;\n",
       "  margin-left: 0.5em;\n",
       "  text-align: center;\n",
       "  /* unfitted */\n",
       "  border: var(--sklearn-color-unfitted-level-1) 1pt solid;\n",
       "  color: var(--sklearn-color-unfitted-level-1);\n",
       "}\n",
       "\n",
       ".sk-estimator-doc-link.fitted,\n",
       "a:link.sk-estimator-doc-link.fitted,\n",
       "a:visited.sk-estimator-doc-link.fitted {\n",
       "  /* fitted */\n",
       "  border: var(--sklearn-color-fitted-level-1) 1pt solid;\n",
       "  color: var(--sklearn-color-fitted-level-1);\n",
       "}\n",
       "\n",
       "/* On hover */\n",
       "div.sk-estimator:hover .sk-estimator-doc-link:hover,\n",
       ".sk-estimator-doc-link:hover,\n",
       "div.sk-label-container:hover .sk-estimator-doc-link:hover,\n",
       ".sk-estimator-doc-link:hover {\n",
       "  /* unfitted */\n",
       "  background-color: var(--sklearn-color-unfitted-level-3);\n",
       "  color: var(--sklearn-color-background);\n",
       "  text-decoration: none;\n",
       "}\n",
       "\n",
       "div.sk-estimator.fitted:hover .sk-estimator-doc-link.fitted:hover,\n",
       ".sk-estimator-doc-link.fitted:hover,\n",
       "div.sk-label-container:hover .sk-estimator-doc-link.fitted:hover,\n",
       ".sk-estimator-doc-link.fitted:hover {\n",
       "  /* fitted */\n",
       "  background-color: var(--sklearn-color-fitted-level-3);\n",
       "  color: var(--sklearn-color-background);\n",
       "  text-decoration: none;\n",
       "}\n",
       "\n",
       "/* Span, style for the box shown on hovering the info icon */\n",
       ".sk-estimator-doc-link span {\n",
       "  display: none;\n",
       "  z-index: 9999;\n",
       "  position: relative;\n",
       "  font-weight: normal;\n",
       "  right: .2ex;\n",
       "  padding: .5ex;\n",
       "  margin: .5ex;\n",
       "  width: min-content;\n",
       "  min-width: 20ex;\n",
       "  max-width: 50ex;\n",
       "  color: var(--sklearn-color-text);\n",
       "  box-shadow: 2pt 2pt 4pt #999;\n",
       "  /* unfitted */\n",
       "  background: var(--sklearn-color-unfitted-level-0);\n",
       "  border: .5pt solid var(--sklearn-color-unfitted-level-3);\n",
       "}\n",
       "\n",
       ".sk-estimator-doc-link.fitted span {\n",
       "  /* fitted */\n",
       "  background: var(--sklearn-color-fitted-level-0);\n",
       "  border: var(--sklearn-color-fitted-level-3);\n",
       "}\n",
       "\n",
       ".sk-estimator-doc-link:hover span {\n",
       "  display: block;\n",
       "}\n",
       "\n",
       "/* \"?\"-specific style due to the `<a>` HTML tag */\n",
       "\n",
       "#sk-container-id-1 a.estimator_doc_link {\n",
       "  float: right;\n",
       "  font-size: 1rem;\n",
       "  line-height: 1em;\n",
       "  font-family: monospace;\n",
       "  background-color: var(--sklearn-color-background);\n",
       "  border-radius: 1rem;\n",
       "  height: 1rem;\n",
       "  width: 1rem;\n",
       "  text-decoration: none;\n",
       "  /* unfitted */\n",
       "  color: var(--sklearn-color-unfitted-level-1);\n",
       "  border: var(--sklearn-color-unfitted-level-1) 1pt solid;\n",
       "}\n",
       "\n",
       "#sk-container-id-1 a.estimator_doc_link.fitted {\n",
       "  /* fitted */\n",
       "  border: var(--sklearn-color-fitted-level-1) 1pt solid;\n",
       "  color: var(--sklearn-color-fitted-level-1);\n",
       "}\n",
       "\n",
       "/* On hover */\n",
       "#sk-container-id-1 a.estimator_doc_link:hover {\n",
       "  /* unfitted */\n",
       "  background-color: var(--sklearn-color-unfitted-level-3);\n",
       "  color: var(--sklearn-color-background);\n",
       "  text-decoration: none;\n",
       "}\n",
       "\n",
       "#sk-container-id-1 a.estimator_doc_link.fitted:hover {\n",
       "  /* fitted */\n",
       "  background-color: var(--sklearn-color-fitted-level-3);\n",
       "}\n",
       "</style><div id=\"sk-container-id-1\" class=\"sk-top-container\"><div class=\"sk-text-repr-fallback\"><pre>RandomForestClassifier()</pre><b>In a Jupyter environment, please rerun this cell to show the HTML representation or trust the notebook. <br />On GitHub, the HTML representation is unable to render, please try loading this page with nbviewer.org.</b></div><div class=\"sk-container\" hidden><div class=\"sk-item\"><div class=\"sk-estimator fitted sk-toggleable\"><input class=\"sk-toggleable__control sk-hidden--visually\" id=\"sk-estimator-id-1\" type=\"checkbox\" checked><label for=\"sk-estimator-id-1\" class=\"sk-toggleable__label fitted sk-toggleable__label-arrow\"><div><div>RandomForestClassifier</div></div><div><a class=\"sk-estimator-doc-link fitted\" rel=\"noreferrer\" target=\"_blank\" href=\"https://scikit-learn.org/1.6/modules/generated/sklearn.ensemble.RandomForestClassifier.html\">?<span>Documentation for RandomForestClassifier</span></a><span class=\"sk-estimator-doc-link fitted\">i<span>Fitted</span></span></div></label><div class=\"sk-toggleable__content fitted\"><pre>RandomForestClassifier()</pre></div> </div></div></div></div>"
      ],
      "text/plain": [
       "RandomForestClassifier()"
      ]
     },
     "execution_count": 47,
     "metadata": {},
     "output_type": "execute_result"
    }
   ],
   "source": [
    "from sklearn.ensemble import RandomForestClassifier\n",
    "from sklearn.metrics import accuracy_score, classification_report, confusion_matrix\n",
    "\n",
    "\n",
    "classifier = RandomForestClassifier()\n",
    "\n",
    "classifier.fit(X_train, y_train)\n",
    "\n"
   ]
  },
  {
   "cell_type": "code",
   "execution_count": 48,
   "metadata": {
    "colab": {
     "base_uri": "https://localhost:8080/"
    },
    "executionInfo": {
     "elapsed": 729,
     "status": "ok",
     "timestamp": 1734018977969,
     "user": {
      "displayName": "Recker",
      "userId": "16854911016069694959"
     },
     "user_tz": -330
    },
    "id": "7a7bHJHLko82",
    "outputId": "07b7d2a3-7b60-4d69-f23b-3616285ead5b"
   },
   "outputs": [
    {
     "name": "stdout",
     "output_type": "stream",
     "text": [
      "Word2Vec Accuracy: 0.908334020278625\n"
     ]
    }
   ],
   "source": [
    "## Check Score on test\n",
    "y_pred = classifier.predict(X_test)\n",
    "print(f\"Word2Vec Accuracy: {accuracy_score(y_test, y_pred)}\")"
   ]
  },
  {
   "cell_type": "code",
   "execution_count": 49,
   "metadata": {
    "colab": {
     "base_uri": "https://localhost:8080/"
    },
    "executionInfo": {
     "elapsed": 475,
     "status": "ok",
     "timestamp": 1734019203544,
     "user": {
      "displayName": "Recker",
      "userId": "16854911016069694959"
     },
     "user_tz": -330
    },
    "id": "zLNgI2VwlET6",
    "outputId": "9531e5cc-c406-4ad6-f746-9fd58b4de720"
   },
   "outputs": [
    {
     "name": "stdout",
     "output_type": "stream",
     "text": [
      "              precision    recall  f1-score   support\n",
      "\n",
      "           0       0.79      0.51      0.62      1779\n",
      "           1       0.92      0.98      0.95     10352\n",
      "\n",
      "    accuracy                           0.91     12131\n",
      "   macro avg       0.85      0.74      0.78     12131\n",
      "weighted avg       0.90      0.91      0.90     12131\n",
      "\n"
     ]
    }
   ],
   "source": [
    "## Classification Report\n",
    "print(classification_report(y_test, y_pred))"
   ]
  },
  {
   "cell_type": "code",
   "execution_count": 51,
   "metadata": {
    "executionInfo": {
     "elapsed": 445,
     "status": "ok",
     "timestamp": 1734019682625,
     "user": {
      "displayName": "Recker",
      "userId": "16854911016069694959"
     },
     "user_tz": -330
    },
    "id": "2T3HDEmTn66y"
   },
   "outputs": [],
   "source": [
    "## Pickle the model and the classifier\n",
    "import pickle\n",
    "pickle.dump(w2v_model, open(\"artifacts/w2v_model.pkl\", \"wb\"))\n",
    "pickle.dump(classifier, open(\"artifacts/classifier.pkl\", \"wb\"))\n"
   ]
  },
  {
   "cell_type": "code",
   "execution_count": null,
   "metadata": {
    "id": "EhYlbZvSnPu0"
   },
   "outputs": [],
   "source": []
  }
 ],
 "metadata": {
  "colab": {
   "authorship_tag": "ABX9TyNj/0gW/kjOTsAChkXckxA9",
   "provenance": []
  },
  "kernelspec": {
   "display_name": "test_env",
   "language": "python",
   "name": "python3"
  },
  "language_info": {
   "codemirror_mode": {
    "name": "ipython",
    "version": 3
   },
   "file_extension": ".py",
   "mimetype": "text/x-python",
   "name": "python",
   "nbconvert_exporter": "python",
   "pygments_lexer": "ipython3",
   "version": "3.10.16"
  }
 },
 "nbformat": 4,
 "nbformat_minor": 0
}
