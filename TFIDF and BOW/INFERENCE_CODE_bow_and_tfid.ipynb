{
 "cells": [
  {
   "cell_type": "code",
   "execution_count": 4,
   "metadata": {},
   "outputs": [],
   "source": [
    "import pickle\n",
    "from sklearn.feature_extraction.text import CountVectorizer, TfidfVectorizer"
   ]
  },
  {
   "cell_type": "markdown",
   "metadata": {},
   "source": [
    "### Loading the Models and Vectorizer\n"
   ]
  },
  {
   "cell_type": "code",
   "execution_count": 12,
   "metadata": {},
   "outputs": [],
   "source": [
    "# Loading the models and the vectorizer (containing the vocabulary sparse matrix)\n",
    "with open('artifacts/models/nb_model_bow.pkl', 'rb') as file:\n",
    "    nb_model_bow = pickle.load(file)\n",
    "\n",
    "with open('artifacts/models/nb_model_tfidf.pkl', 'rb') as file:\n",
    "    nb_model_tfidf = pickle.load(file)\n",
    "\n",
    "\n",
    "with open('artifacts/vectorizer/bow_vectorizer.pkl', 'rb') as file:\n",
    "    bow = pickle.load(file)\n",
    "\n",
    "with open('artifacts/vectorizer/tfidf_vectorizer.pkl', 'rb') as file:\n",
    "    tfidf = pickle.load(file)"
   ]
  },
  {
   "cell_type": "markdown",
   "metadata": {},
   "source": [
    "### Initializing bow and tfidf objects"
   ]
  },
  {
   "cell_type": "code",
   "execution_count": 19,
   "metadata": {},
   "outputs": [],
   "source": [
    "# Custom input text for prediction\n",
    "custom_input = [\"great amazing product\"]"
   ]
  },
  {
   "cell_type": "code",
   "execution_count": 20,
   "metadata": {},
   "outputs": [],
   "source": [
    "# Transform the custom input using both vectorizers\n",
    "X_custom_bow = bow.transform(custom_input).toarray()\n",
    "X_custom_tfidf = tfidf.transform(custom_input).toarray()"
   ]
  },
  {
   "cell_type": "code",
   "execution_count": 21,
   "metadata": {},
   "outputs": [
    {
     "name": "stdout",
     "output_type": "stream",
     "text": [
      "Prediction using BoW model: Negative\n",
      "Prediction using TF-IDF model: Negative\n"
     ]
    }
   ],
   "source": [
    "# Make predictions using both models\n",
    "prediction_bow = nb_model_bow.predict(X_custom_bow)\n",
    "prediction_tfidf = nb_model_tfidf.predict(X_custom_tfidf)\n",
    "\n",
    "# Print the predictions\n",
    "print(f\"Prediction using BoW model: {'Positive' if prediction_bow[0] == 1 else 'Negative'}\")\n",
    "print(f\"Prediction using TF-IDF model: {'Positive' if prediction_tfidf[0] == 1 else 'Negative'}\")\n"
   ]
  }
 ],
 "metadata": {
  "kernelspec": {
   "display_name": "test_env",
   "language": "python",
   "name": "python3"
  },
  "language_info": {
   "codemirror_mode": {
    "name": "ipython",
    "version": 3
   },
   "file_extension": ".py",
   "mimetype": "text/x-python",
   "name": "python",
   "nbconvert_exporter": "python",
   "pygments_lexer": "ipython3",
   "version": "3.11.11"
  }
 },
 "nbformat": 4,
 "nbformat_minor": 2
}
